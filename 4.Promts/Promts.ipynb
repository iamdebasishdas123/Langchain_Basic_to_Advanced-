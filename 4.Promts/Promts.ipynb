{
 "cells": [
  {
   "cell_type": "markdown",
   "metadata": {},
   "source": [
    "# 1. Basic Prompt"
   ]
  },
  {
   "cell_type": "code",
   "execution_count": 4,
   "metadata": {},
   "outputs": [
    {
     "data": {
      "text/plain": [
       "'My name Is Debasish Das and I am from India. I have done my Master '"
      ]
     },
     "execution_count": 4,
     "metadata": {},
     "output_type": "execute_result"
    }
   ],
   "source": [
    "from langchain.prompts import PromptTemplate,load_prompt\n",
    "\n",
    "input=PromptTemplate(template=\"My name Is {name} and I am from {country}. I have done my {education} \",\n",
    "                     input_variables=['name', 'country','education'],validate_template=True)\n",
    "\n",
    "input.format(name= 'Debasish Das', education= 'Master', country='India')\n",
    "\n",
    "\n"
   ]
  },
  {
   "cell_type": "markdown",
   "metadata": {},
   "source": [
    "# 2. Save To json file"
   ]
  },
  {
   "cell_type": "code",
   "execution_count": 2,
   "metadata": {},
   "outputs": [],
   "source": [
    "input=PromptTemplate(template=\"My name Is {name} and I am from {country}. I have done my {education} \",\n",
    "                     input_variables=['name', 'country','education'],validate_template=True)\n",
    "\n",
    "input.format(name= 'Debasish Das', education= 'Master', country='India')\n",
    "input.save('temp.json')"
   ]
  },
  {
   "cell_type": "markdown",
   "metadata": {},
   "source": [
    "# 3. Load Json Format input"
   ]
  },
  {
   "cell_type": "code",
   "execution_count": 3,
   "metadata": {},
   "outputs": [
    {
     "data": {
      "text/plain": [
       "'My name Is Debasish Das and I am from India. I have done my Master '"
      ]
     },
     "execution_count": 3,
     "metadata": {},
     "output_type": "execute_result"
    }
   ],
   "source": [
    "from langchain.prompts import PromptTemplate,load_prompt\n",
    "\n",
    "input=load_prompt('temp.json')\n",
    "\n",
    "input.format(name= 'Debasish Das', education= 'Master', country='India')"
   ]
  },
  {
   "cell_type": "markdown",
   "metadata": {},
   "source": [
    "# 4. Use load json and use  Chain "
   ]
  },
  {
   "cell_type": "code",
   "execution_count": 8,
   "metadata": {},
   "outputs": [
    {
     "name": "stdout",
     "output_type": "stream",
     "text": [
      "s in Computer Science and Engineering from the Indian Institute of Technology (IIT). I have a passion for technology and enjoy working on projects that involve coding and problem-solving. In my free time, I like to read books, watch movies, and spend\n"
     ]
    }
   ],
   "source": [
    "from langchain_openai import ChatOpenAI\n",
    "from langchain.prompts import PromptTemplate\n",
    "from dotenv import load_dotenv\n",
    "\n",
    "# Load environment variables (ensure OPENAI_API_KEY is set in .env)\n",
    "load_dotenv()\n",
    "\n",
    "# Initialize ChatOpenAI with a supported model\n",
    "model = ChatOpenAI(model=\"gpt-3.5-turbo\", temperature=0.5, max_tokens=50)\n",
    "\n",
    "# Define or load prompt template manually (adjust as needed)\n",
    "prompt = PromptTemplate(\n",
    "    input_variables=[\"name\", \"education\", \"country\"],\n",
    "    template=\"My name is {name} and I am from {country}. I have done my {education}.\"\n",
    ")\n",
    "\n",
    "# Chain prompt and model\n",
    "input_data = {\"name\": \"Debasish Das\", \"education\": \"Master\", \"country\": \"India\"}\n",
    "formatted_prompt = prompt.format(**input_data)\n",
    "response = model.invoke([(\"human\", formatted_prompt)])\n",
    "\n",
    "# Print the response content\n",
    "print(response.content)\n"
   ]
  },
  {
   "cell_type": "code",
   "execution_count": 6,
   "metadata": {},
   "outputs": [
    {
     "data": {
      "text/plain": [
       "'in Computer Science and currently working as a software engineer in a multinational company. I am passionate about technology and always eager to learn new things in the field of computer science. In my free time, I enjoy reading books, watching movies, and traveling to new places. I believe in continuous self-improvement and strive to be the best version of myself in both my personal and professional life.'"
      ]
     },
     "execution_count": 6,
     "metadata": {},
     "output_type": "execute_result"
    }
   ],
   "source": [
    "from langchain_openai import ChatOpenAI\n",
    "from dotenv import load_dotenv\n",
    "import streamlit as st\n",
    "from langchain_core.prompts import PromptTemplate,load_prompt\n",
    "\n",
    "load_dotenv()\n",
    "model = ChatOpenAI()\n",
    "\n",
    "\n",
    "\n",
    "template = load_prompt('temp.json')\n",
    "\n",
    "\n",
    "\n",
    "\n",
    "chain=input | model\n",
    "\n",
    "results=chain.invoke({\n",
    "    \"name\": \"Debasish Das\",\n",
    "    \"education\": \"Master\",\n",
    "    \"country\": \"India\"\n",
    "})\n",
    "results.content"
   ]
  },
  {
   "cell_type": "markdown",
   "metadata": {},
   "source": [
    "# 4. Chatbot history"
   ]
  },
  {
   "cell_type": "code",
   "execution_count": null,
   "metadata": {},
   "outputs": [],
   "source": [
    "from langchain_openai import ChatOpenAI\n",
    "from langchain_core.messages import SystemMessage, HumanMessage, AIMessage\n",
    "from dotenv import load_dotenv\n",
    "\n",
    "load_dotenv()\n",
    "\n",
    "model = ChatOpenAI()\n",
    "\n",
    "chat_history = [\n",
    "    SystemMessage(content='You are a helpful AI assistant')\n",
    "]\n",
    "\n",
    "while True:\n",
    "    user_input = input('You: ')\n",
    "    chat_history.append(HumanMessage(content=user_input))\n",
    "    if user_input == 'exit':\n",
    "        break\n",
    "    result = model.invoke(chat_history)\n",
    "    chat_history.append(AIMessage(content=result.content))\n",
    "    print(\"AI: \",result.content)\n",
    "\n",
    "print(chat_history)"
   ]
  },
  {
   "cell_type": "code",
   "execution_count": null,
   "metadata": {},
   "outputs": [],
   "source": [
    "from langchain_core.messages import SystemMessage, HumanMessage, AIMessage\n",
    "from langchain_openai import ChatOpenAI\n",
    "from dotenv import load_dotenv\n",
    "\n",
    "load_dotenv()\n",
    "\n",
    "model = ChatOpenAI()\n",
    "\n",
    "messages=[\n",
    "    SystemMessage(content='You are a helpful assistant'),\n",
    "    HumanMessage(content='Tell me about LangChain')\n",
    "]\n",
    "\n",
    "result = model.invoke(messages)\n",
    "\n",
    "messages.append(AIMessage(content=result.content))\n",
    "\n",
    "print(messages)"
   ]
  },
  {
   "cell_type": "markdown",
   "metadata": {},
   "source": [
    "## 4.1 Dynamic Message Chat History"
   ]
  },
  {
   "cell_type": "code",
   "execution_count": null,
   "metadata": {},
   "outputs": [],
   "source": [
    "from langchain_core.prompts import ChatPromptTemplate\n",
    "\n",
    "chat_template = ChatPromptTemplate([\n",
    "    ('system', 'You are a helpful {domain} expert'),\n",
    "    ('human', 'Explain in simple terms, what is {topic}')\n",
    "])\n",
    "\n",
    "prompt = chat_template.invoke({'domain':'cricket','topic':'Dusra'})\n",
    "\n",
    "print(prompt)"
   ]
  },
  {
   "cell_type": "code",
   "execution_count": 10,
   "metadata": {},
   "outputs": [
    {
     "name": "stdout",
     "output_type": "stream",
     "text": [
      "messages=[SystemMessage(content='You are a helpful customer support agent'), HumanMessage(content='HumanMessage(content=\"I want to request a refund for my order #12345.\")\\n'), HumanMessage(content='AIMessage(content=\"Your refund request for order #12345 has been initiated. It will be processed in 3-5 business days.\")'), HumanMessage(content='Where is my refund')]\n"
     ]
    }
   ],
   "source": [
    "from langchain_core.prompts import ChatPromptTemplate, MessagesPlaceholder\n",
    "# chat template\n",
    "chat_template = ChatPromptTemplate([\n",
    "    ('system','You are a helpful customer support agent'),\n",
    "    MessagesPlaceholder(variable_name='chat_history'),\n",
    "    ('human','{query}')\n",
    "])\n",
    "\n",
    "chat_history = []\n",
    "# load chat history\n",
    "with open('chathistory.txt') as f:\n",
    "    chat_history.extend(f.readlines())\n",
    "\n",
    "# print(chat_history)\n",
    "\n",
    "# create prompt\n",
    "prompt = chat_template.invoke({'chat_history':chat_history, 'query':'Where is my refund'})\n",
    "\n",
    "print(prompt)"
   ]
  },
  {
   "cell_type": "code",
   "execution_count": null,
   "metadata": {},
   "outputs": [],
   "source": []
  }
 ],
 "metadata": {
  "kernelspec": {
   "display_name": "env1",
   "language": "python",
   "name": "python3"
  },
  "language_info": {
   "codemirror_mode": {
    "name": "ipython",
    "version": 3
   },
   "file_extension": ".py",
   "mimetype": "text/x-python",
   "name": "python",
   "nbconvert_exporter": "python",
   "pygments_lexer": "ipython3",
   "version": "3.12.4"
  }
 },
 "nbformat": 4,
 "nbformat_minor": 2
}
